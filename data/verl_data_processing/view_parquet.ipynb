{
 "cells": [
  {
   "cell_type": "markdown",
   "metadata": {},
   "source": [
    "# Test Your Parquets \n",
    "---\n",
    "Make sure after creating parquets the following things work"
   ]
  },
  {
   "cell_type": "code",
   "execution_count": 1,
   "metadata": {},
   "outputs": [],
   "source": [
    "import os\n",
    "import json\n",
    "import pandas as pd"
   ]
  },
  {
   "cell_type": "code",
   "execution_count": 2,
   "metadata": {},
   "outputs": [
    {
     "name": "stdout",
     "output_type": "stream",
     "text": [
      "<class 'pandas.core.frame.DataFrame'>\n",
      "RangeIndex: 5000 entries, 0 to 4999\n",
      "Data columns (total 5 columns):\n",
      " #   Column        Non-Null Count  Dtype \n",
      "---  ------        --------------  ----- \n",
      " 0   data_source   5000 non-null   object\n",
      " 1   prompt        5000 non-null   object\n",
      " 2   ability       5000 non-null   object\n",
      " 3   reward_model  5000 non-null   object\n",
      " 4   extra_info    5000 non-null   object\n",
      "dtypes: object(5)\n",
      "memory usage: 195.4+ KB\n",
      "Train df info:\n",
      "None\n",
      "<class 'pandas.core.frame.DataFrame'>\n",
      "RangeIndex: 256 entries, 0 to 255\n",
      "Data columns (total 5 columns):\n",
      " #   Column        Non-Null Count  Dtype \n",
      "---  ------        --------------  ----- \n",
      " 0   data_source   256 non-null    object\n",
      " 1   prompt        256 non-null    object\n",
      " 2   ability       256 non-null    object\n",
      " 3   reward_model  256 non-null    object\n",
      " 4   extra_info    256 non-null    object\n",
      "dtypes: object(5)\n",
      "memory usage: 10.1+ KB\n",
      "\n",
      "Test df info:\n",
      "None\n"
     ]
    }
   ],
   "source": [
    "# Need to check both -- if test is busted it will break our train :)\n",
    "train_parquet_filename = \"train-old_system_prompt-5k.parquet\"\n",
    "test_parquet_filename = \"test-old_system_prompt-256.parquet\"\n",
    "DATA_ROOT = os.path.abspath(os.path.join(os.path.abspath(os.getcwd()), \"..\"))\n",
    "\n",
    "# Download our parquet and convert to pandas dataframe for viewing\n",
    "train_df = pd.read_parquet(os.path.join(DATA_ROOT, \"parquet_datasets\", train_parquet_filename))\n",
    "train_df[\"reward_model\"] = train_df[\"reward_model\"].apply(json.loads)\n",
    "test_df = pd.read_parquet(os.path.join(DATA_ROOT, \"parquet_datasets\", test_parquet_filename))\n",
    "test_df[\"reward_model\"] = test_df[\"reward_model\"].apply(json.loads)\n",
    "\n",
    "print(f\"Train df info:\\n{train_df.info()}\")\n",
    "print(f\"\\nTest df info:\\n{test_df.info()}\")"
   ]
  },
  {
   "cell_type": "code",
   "execution_count": 3,
   "metadata": {},
   "outputs": [],
   "source": [
    "def rand_sample_df(df):\n",
    "    sample = df.sample(1).iloc[0]\n",
    "    print(f\"Prompt:\\n{sample['prompt'][0]['content']}\\n\")   # This should be the full prompt (sys + user)\n",
    "    print(f\"Reward Model:\\n{sample['reward_model']}\\n\" + \"-\"*50)   # This should be a dict with a 'ground_truth' key\n",
    "    print(type(sample['reward_model']))  # Make sure this is 'dict'"
   ]
  },
  {
   "cell_type": "code",
   "execution_count": 4,
   "metadata": {},
   "outputs": [
    {
     "name": "stdout",
     "output_type": "stream",
     "text": [
      "Prompt:\n",
      "<|im_start|>system\n",
      "You are a smart, strategic, and wise chess reasoning model. You are currently in a chess tournament where you have 1 minute to make a move.\n",
      "\n",
      "We will provide you with a board in Forsyth-Edwards Notation (FEN) and a list of legal moves. Your task is to reason through the board state and determine an optimal move based on your analysis.\n",
      "\n",
      "The reasoning process and answer must be enclosed within <think> </think> and <answer> </answer> tags, respectively. For example, when given an input prefixed with \"user:\", your response should be in the format \"assistant: <think> [your reasoning] </think> <answer> [chosen move] </answer>\".\n",
      "\n",
      "Below is an example of your desired behavior:\n",
      "\n",
      "Example 1:\n",
      "user: <FEN> 7R/4n1k1/4P3/1pp2B2/8/6P1/2r4P/6K1 w - - 3 50 </FEN> <legal moves> [f5h7, h8h6, h2h4, h8g8, h2h3, g1f1, f5d3, f5h3, h8b8, h8h4, h8c8, h8f8, h8a8, h8d8, f5g4, h8h3, g3g4, g1h1, f5e4, h8h5, f5c2, h8e8, f5g6, h8h7] </legal moves>\n",
      "assistant: <think> Playing as white, I'm in the offensive here. My rook is currently in at risk of being taken by their king and my bishop is at risk of being taken by their knight. I could take their rook with their bishop but they would take my rook. However, if I move my rook to h7, I'll put their king in check while saving my rook and bishop and continue pressure. Moving rook h8 to h7 is a wise move. </think> <answer> h8h7 </answer>\n",
      "\n",
      "Make sure that your chosen move is in standard chess notation (such as 'g8f7' -- which means you move the piece from g8 to f7). \n",
      "\n",
      "Use English for your thought process. Remember you have one minute to move so be quick.<|im_end|>\n",
      "<|im_start|>user: <FEN> q2r2k1/6p1/3p2p1/2p3R1/1pP1p1QP/1B1P4/1P3P2/6K1 w - - 0 31 </FEN> <legalmoves> [g4h3, g4g3, g5e5, g4e6, b3a2, g4f4, g4g2, g5f5, g4d1, g5d5, g1g2, g4h5, g4d7, f2f3, b3a4, g1h2, d3e4, g4f3, g4e4, g4c8, g5h5, h4h5, b3d1, g4f5, g1h1, g1f1, g4e2, g5g6, d3d4, f2f4, g5c5, b3c2] </legalmoves><|im_end|>\n",
      "<|im_start|>assistant: \n",
      "\n",
      "Reward Model:\n",
      "{'style': 'rule', 'ground_truth': {'g4h3': 1.0, 'g4g3': 0.9174028684873691, 'g5e5': 0.9155315755011527, 'g4e6': 0.9000563610283677, 'b3a2': 0.8987259108706805, 'g4f4': 0.8864660212754526, 'g4g2': 0.8596337974534469, 'g5f5': 0.8496817069532487, 'g4d1': 0.8481263756392607, 'g5d5': 0.8394566486841134, 'g1g2': 0.8281407184415008, 'g4h5': 0.8139784253544987, 'g4d7': 0.7984848489596548, 'f2f3': 0.7940912553993202, 'b3a4': 0.7779562042863659, 'g1h2': 0.7556864939645084, 'd3e4': 0.7157512091506064, 'g4f3': 0.6985423318331798, 'g4e4': 0.6934132980114197, 'g4c8': 0.6799405942364541, 'g5h5': 0.6768042162501525, 'h4h5': 0.6736579026173106, 'b3d1': 0.602241253075524, 'g4f5': 0.1814546288623357, 'g1h1': 0.14449780185322614, 'g1f1': 0.12439520397054149, 'g4e2': 0.11654225827216924, 'g5g6': 0.02290405040424809, 'd3d4': 0.016957260481266168, 'f2f4': 0.015171503267270289, 'g5c5': 0.0065460672085753705, 'b3c2': 0.0}}\n",
      "--------------------------------------------------\n",
      "<class 'dict'>\n"
     ]
    }
   ],
   "source": [
    "# Randomly sample and print out values\n",
    "rand_sample_df(train_df)"
   ]
  },
  {
   "cell_type": "code",
   "execution_count": 5,
   "metadata": {},
   "outputs": [
    {
     "name": "stdout",
     "output_type": "stream",
     "text": [
      "Prompt:\n",
      "<|im_start|>system\n",
      "You are a smart, strategic, and wise chess reasoning model. You are currently in a chess tournament where you have 1 minute to make a move.\n",
      "\n",
      "We will provide you with a board in Forsyth-Edwards Notation (FEN) and a list of legal moves. Your task is to reason through the board state and determine an optimal move based on your analysis.\n",
      "\n",
      "The reasoning process and answer must be enclosed within <think> </think> and <answer> </answer> tags, respectively. For example, when given an input prefixed with \"user:\", your response should be in the format \"assistant: <think> [your reasoning] </think> <answer> [chosen move] </answer>\".\n",
      "\n",
      "Below is an example of your desired behavior:\n",
      "\n",
      "Example 1:\n",
      "user: <FEN> 7R/4n1k1/4P3/1pp2B2/8/6P1/2r4P/6K1 w - - 3 50 </FEN> <legal moves> [f5h7, h8h6, h2h4, h8g8, h2h3, g1f1, f5d3, f5h3, h8b8, h8h4, h8c8, h8f8, h8a8, h8d8, f5g4, h8h3, g3g4, g1h1, f5e4, h8h5, f5c2, h8e8, f5g6, h8h7] </legal moves>\n",
      "assistant: <think> Playing as white, I'm in the offensive here. My rook is currently in at risk of being taken by their king and my bishop is at risk of being taken by their knight. I could take their rook with their bishop but they would take my rook. However, if I move my rook to h7, I'll put their king in check while saving my rook and bishop and continue pressure. Moving rook h8 to h7 is a wise move. </think> <answer> h8h7 </answer>\n",
      "\n",
      "Make sure that your chosen move is in standard chess notation (such as 'g8f7' -- which means you move the piece from g8 to f7). \n",
      "\n",
      "Use English for your thought process. Remember you have one minute to move so be quick.<|im_end|>\n",
      "<|im_start|>user: <FEN> rnbqk2r/p1p2pbp/1p1p1nP1/3N4/4P3/5Q2/PPPP2PP/R1B1KB1R b KQkq - 0 11 </FEN> <legalmoves> [h8f8, f7g6, a7a5, c8a6, d8d7, a7a6, c7c5, b8a6, e8g8, c8d7, e8f8, h8g8, b8d7, g7f8, b8c6, h7g6, e8d7, f6g8, f6g4, c7c6, h7h6, c8g4, h7h5, f6e4, d8e7, f6d7, c8h3, c8e6, g7h6, f6h5, b6b5, f6d5, c8f5, c8b7] </legalmoves><|im_end|>\n",
      "<|im_start|>assistant: \n",
      "\n",
      "Reward Model:\n",
      "{'style': 'rule', 'ground_truth': {'h8f8': 1.0, 'f7g6': 0.980203040101155, 'a7a5': 0.8921808826667776, 'c8a6': 0.8511030392700425, 'd8d7': 0.8105890489773575, 'a7a6': 0.8048547830313023, 'c7c5': 0.7851857341475351, 'b8a6': 0.7499099889525452, 'e8g8': 0.7176835794528262, 'c8d7': 0.6694446769394082, 'e8f8': 0.501812228807115, 'h8g8': 0.49725047265002753, 'b8d7': 0.49043858992704253, 'g7f8': 0.47693045264018114, 'b8c6': 0.47469465073983785, 'h7g6': 0.47357846071289933, 'e8d7': 0.4569765975952236, 'f6g8': 0.4558794588438623, 'f6g4': 0.4406518277016315, 'c7c6': 0.42993122962211944, 'h7h6': 0.4172460140234857, 'c8g4': 0.3637392991709908, 'h7h5': 0.2719560279129072, 'f6e4': 0.25038872452208977, 'd8e7': 0.15228269755186058, 'f6d7': 0.1454782024478616, 'c8h3': 0.14500249685993613, 'c8e6': 0.04953683876477736, 'g7h6': 0.0, 'f6h5': 0.0, 'b6b5': 0.0, 'f6d5': 0.0, 'c8f5': 0.0, 'c8b7': 0.0}}\n",
      "--------------------------------------------------\n",
      "<class 'dict'>\n"
     ]
    }
   ],
   "source": [
    "# Randomly sample and print out values\n",
    "rand_sample_df(test_df)"
   ]
  }
 ],
 "metadata": {
  "kernelspec": {
   "display_name": "chess-reasoner",
   "language": "python",
   "name": "python3"
  },
  "language_info": {
   "codemirror_mode": {
    "name": "ipython",
    "version": 3
   },
   "file_extension": ".py",
   "mimetype": "text/x-python",
   "name": "python",
   "nbconvert_exporter": "python",
   "pygments_lexer": "ipython3",
   "version": "3.10.16"
  }
 },
 "nbformat": 4,
 "nbformat_minor": 2
}
