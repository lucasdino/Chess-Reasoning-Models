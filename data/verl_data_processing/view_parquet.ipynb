{
 "cells": [
  {
   "cell_type": "markdown",
   "metadata": {},
   "source": [
    "# Test Your Parquets \n",
    "---\n",
    "Make sure after creating parquets the following things work"
   ]
  },
  {
   "cell_type": "code",
   "execution_count": 1,
   "metadata": {},
   "outputs": [],
   "source": [
    "import os\n",
    "import json\n",
    "import pandas as pd"
   ]
  },
  {
   "cell_type": "code",
   "execution_count": 2,
   "metadata": {},
   "outputs": [
    {
     "name": "stdout",
     "output_type": "stream",
     "text": [
      "<class 'pandas.core.frame.DataFrame'>\n",
      "RangeIndex: 5000 entries, 0 to 4999\n",
      "Data columns (total 5 columns):\n",
      " #   Column        Non-Null Count  Dtype \n",
      "---  ------        --------------  ----- \n",
      " 0   data_source   5000 non-null   object\n",
      " 1   prompt        5000 non-null   object\n",
      " 2   ability       5000 non-null   object\n",
      " 3   reward_model  5000 non-null   object\n",
      " 4   extra_info    5000 non-null   object\n",
      "dtypes: object(5)\n",
      "memory usage: 195.4+ KB\n",
      "Train df info:\n",
      "None\n",
      "<class 'pandas.core.frame.DataFrame'>\n",
      "RangeIndex: 256 entries, 0 to 255\n",
      "Data columns (total 5 columns):\n",
      " #   Column        Non-Null Count  Dtype \n",
      "---  ------        --------------  ----- \n",
      " 0   data_source   256 non-null    object\n",
      " 1   prompt        256 non-null    object\n",
      " 2   ability       256 non-null    object\n",
      " 3   reward_model  256 non-null    object\n",
      " 4   extra_info    256 non-null    object\n",
      "dtypes: object(5)\n",
      "memory usage: 10.1+ KB\n",
      "\n",
      "Test df info:\n",
      "None\n"
     ]
    }
   ],
   "source": [
    "# Need to check both -- if test is busted it will break our train :)\n",
    "train_parquet_filename = \"train-old_system_prompt-5k.parquet\"\n",
    "test_parquet_filename = \"test-old_system_prompt-256.parquet\"\n",
    "DATA_ROOT = os.path.abspath(os.path.join(os.path.abspath(os.getcwd()), \"..\"))\n",
    "\n",
    "# Download our parquet and convert to pandas dataframe for viewing\n",
    "train_df = pd.read_parquet(os.path.join(DATA_ROOT, \"parquet_datasets\", train_parquet_filename))\n",
    "train_df[\"reward_model\"] = train_df[\"reward_model\"].apply(json.loads)\n",
    "test_df = pd.read_parquet(os.path.join(DATA_ROOT, \"parquet_datasets\", test_parquet_filename))\n",
    "test_df[\"reward_model\"] = test_df[\"reward_model\"].apply(json.loads)\n",
    "\n",
    "print(f\"Train df info:\\n{train_df.info()}\")\n",
    "print(f\"\\nTest df info:\\n{test_df.info()}\")"
   ]
  },
  {
   "cell_type": "code",
   "execution_count": 3,
   "metadata": {},
   "outputs": [],
   "source": [
    "def rand_sample_df(df):\n",
    "    sample = df.sample(1).iloc[0]\n",
    "    print(f\"Prompt:\\n{sample['prompt'][0]['content']}\\n\")   # This should be the full prompt (sys + user)\n",
    "    print(f\"Reward Model:\\n{sample['reward_model']}\\n\" + \"-\"*50)   # This should be a dict with a 'ground_truth' key\n",
    "    print(type(sample['reward_model']))  # Make sure this is 'dict'"
   ]
  },
  {
   "cell_type": "code",
   "execution_count": 4,
   "metadata": {},
   "outputs": [
    {
     "name": "stdout",
     "output_type": "stream",
     "text": [
      "Prompt:\n",
      "<|im_start|>system\n",
      "You are a smart, strategic, and wise chess reasoning model. You are currently in a chess tournament where you have 1 minute to make a move.\n",
      "\n",
      "We will provide you with a board in Forsyth-Edwards Notation (FEN) and a list of legal moves. Your task is to reason through the board state and determine an optimal move based on your analysis.\n",
      "\n",
      "The reasoning process and answer must be enclosed within <think> </think> and <answer> </answer> tags, respectively. For example, when given an input prefixed with \"user:\", your response should be in the format \"assistant: <think> [your reasoning] </think> <answer> [chosen move] </answer>\".\n",
      "\n",
      "Below is an example of your desired behavior:\n",
      "\n",
      "Example 1:\n",
      "user: <FEN> 7R/4n1k1/4P3/1pp2B2/8/6P1/2r4P/6K1 w - - 3 50 </FEN> <legal moves> [f5h7, h8h6, h2h4, h8g8, h2h3, g1f1, f5d3, f5h3, h8b8, h8h4, h8c8, h8f8, h8a8, h8d8, f5g4, h8h3, g3g4, g1h1, f5e4, h8h5, f5c2, h8e8, f5g6, h8h7] </legal moves>\n",
      "assistant: <think> Playing as white, I'm in the offensive here. My rook is currently in at risk of being taken by their king and my bishop is at risk of being taken by their knight. I could take their rook with their bishop but they would take my rook. However, if I move my rook to h7, I'll put their king in check while saving my rook and bishop and continue pressure. Moving rook h8 to h7 is a wise move. </think> <answer> h8h7 </answer>\n",
      "\n",
      "Make sure that your chosen move is in standard chess notation (such as 'g8f7' -- which means you move the piece from g8 to f7). \n",
      "\n",
      "Use English for your thought process. Remember you have one minute to move so be quick.<|im_end|>\n",
      "<|im_start|>user: <FEN> [e1c1, e1d1, c2b2, b3c3, h4h5, e1a1, c2b1, b3d3, e1g1, c2c3, e1f1, b5b6, c2c1, b3e3, c4c5, f4g5, e1e3, b3b1, f4h6, a3a4, e1e2, f4c1, f4e3, f4d2, b3b4, e1b1, g3g4, b3b2, b3f3, e1h1, e1e4] </FEN> <legalmoves> [b3e3, a3a4, c2c3, b5b6, b3b4, e1e2, b3b1, e1b1, b3d3, f4e3, f4c1, e1a1, f4d2, e1f1, e1d1, c2b2, e1e4, f4h6, e1c1, c2c1, e1h1, b3b2, b3c3, b3f3, c2b1, f4g5, h4h5, g3g4, e1e3, c4c5, e1g1] </legalmoves><|im_end|>\n",
      "<|im_start|>assistant: \n",
      "\n",
      "Reward Model:\n",
      "{'style': 'rule', 'ground_truth': {'b3e3': 1.0, 'a3a4': 0.996091938756396, 'c2c3': 0.996091938756396, 'b5b6': 0.992171136572199, 'b3b4': 0.9723747599928083, 'e1e2': 0.9683767604103615, 'b3b1': 0.9603417489146283, 'e1b1': 0.9603417489146283, 'b3d3': 0.9522544799572173, 'f4e3': 0.9110240904235902, 'f4c1': 0.894155911798436, 'e1a1': 0.864109613629303, 'f4d2': 0.8597619378783492, 'e1f1': 0.8466350660778437, 'e1d1': 0.8289355286528112, 'c2b2': 0.8155117728689999, 'e1e4': 0.8064910325083865, 'f4h6': 0.788276414043357, 'e1c1': 0.7417156065214007, 'c2c1': 0.7417156065214007, 'e1h1': 0.7130644431978725, 'b3b2': 0.7033930817611933, 'b3c3': 0.6936607139535577, 'b3f3': 0.6390282000965869, 'c2b1': 0.5981005126073178, 'f4g5': 0.5022195059335145, 'h4h5': 0.474629930254474, 'g3g4': 0.400895414638697, 'e1e3': 0.05511183365004757, 'c4c5': 0.048292355735933455, 'e1g1': 0.0}}\n",
      "--------------------------------------------------\n",
      "<class 'dict'>\n"
     ]
    }
   ],
   "source": [
    "# Randomly sample and print out values\n",
    "rand_sample_df(train_df)"
   ]
  },
  {
   "cell_type": "code",
   "execution_count": 5,
   "metadata": {},
   "outputs": [
    {
     "name": "stdout",
     "output_type": "stream",
     "text": [
      "Prompt:\n",
      "<|im_start|>system\n",
      "You are a smart, strategic, and wise chess reasoning model. You are currently in a chess tournament where you have 1 minute to make a move.\n",
      "\n",
      "We will provide you with a board in Forsyth-Edwards Notation (FEN) and a list of legal moves. Your task is to reason through the board state and determine an optimal move based on your analysis.\n",
      "\n",
      "The reasoning process and answer must be enclosed within <think> </think> and <answer> </answer> tags, respectively. For example, when given an input prefixed with \"user:\", your response should be in the format \"assistant: <think> [your reasoning] </think> <answer> [chosen move] </answer>\".\n",
      "\n",
      "Below is an example of your desired behavior:\n",
      "\n",
      "Example 1:\n",
      "user: <FEN> 7R/4n1k1/4P3/1pp2B2/8/6P1/2r4P/6K1 w - - 3 50 </FEN> <legal moves> [f5h7, h8h6, h2h4, h8g8, h2h3, g1f1, f5d3, f5h3, h8b8, h8h4, h8c8, h8f8, h8a8, h8d8, f5g4, h8h3, g3g4, g1h1, f5e4, h8h5, f5c2, h8e8, f5g6, h8h7] </legal moves>\n",
      "assistant: <think> Playing as white, I'm in the offensive here. My rook is currently in at risk of being taken by their king and my bishop is at risk of being taken by their knight. I could take their rook with their bishop but they would take my rook. However, if I move my rook to h7, I'll put their king in check while saving my rook and bishop and continue pressure. Moving rook h8 to h7 is a wise move. </think> <answer> h8h7 </answer>\n",
      "\n",
      "Make sure that your chosen move is in standard chess notation (such as 'g8f7' -- which means you move the piece from g8 to f7). \n",
      "\n",
      "Use English for your thought process. Remember you have one minute to move so be quick.<|im_end|>\n",
      "<|im_start|>user: <FEN> [c2e4, c2a4, f3e5, f3g5, h2h4, f3d2, h2h3, f3e1, a2a3, b2b3, g1f1, c3e4, b2b4, c2b3, c2d3, c2b1, g2g3, d1e1, d1d2, f3d4, c4c5, c3e2, d1b1, d1d4, d1d8, d1a1, d1d3, g1h1, c3a4, c3b1, d1c1, d1f1, a2a4, f3h4, g2g4, c2g6, c2f5, c3d5, c3b5, d1d6, d1d5, d1d7] </FEN> <legalmoves> [a2a4, c2a4, c3b5, d1d4, f3d4, c2d3, g2g3, c3b1, h2h3, h2h4, d1d2, c4c5, c3d5, b2b3, f3h4, c2b3, d1d8, d1e1, d1b1, d1c1, f3d2, c2e4, g1h1, f3e1, c2g6, g1f1, c2b1, f3e5, d1a1, g2g4, c3e4, b2b4, c2f5, c3e2, d1d7, c3a4, d1f1, d1d5, d1d3, f3g5, d1d6, a2a3] </legalmoves><|im_end|>\n",
      "<|im_start|>assistant: \n",
      "\n",
      "Reward Model:\n",
      "{'style': 'rule', 'ground_truth': {'a2a4': 1.0, 'c2a4': 0.9882483192288585, 'c3b5': 0.9503410474312541, 'd1d4': 0.901475399116057, 'f3d4': 0.901475399116057, 'c2d3': 0.8986272748173156, 'g2g3': 0.8929400973287024, 'c3b1': 0.8872651106824707, 'h2h3': 0.8816024291050931, 'h2h4': 0.8562756413501176, 'd1d2': 0.8506826272562197, 'c4c5': 0.8423175496476911, 'c3d5': 0.8312102907881658, 'b2b3': 0.8312102907881658, 'f3h4': 0.8312102907881658, 'c2b3': 0.8201565606053376, 'd1d8': 0.8174015865810405, 'd1e1': 0.8146500208275895, 'd1b1': 0.8119018756419516, 'd1c1': 0.8119018756419516, 'f3d2': 0.8119018756419516, 'c2e4': 0.8091571632442224, 'g1h1': 0.8009437438238601, 'f3e1': 0.7982128832371402, 'c2g6': 0.792761652013787, 'g1f1': 0.7846112052355153, 'c2b1': 0.7846112052355153, 'f3e5': 0.7819014758285258, 'd1a1': 0.7791953085249042, 'g2g4': 0.7791953085249042, 'c3e4': 0.7791953085249042, 'b2b4': 0.7710982917352452, 'c2f5': 0.7443443146416122, 'c3e2': 0.6842350816763707, 'd1d7': 0.6688917016389966, 'c3a4': 0.17178775478818273, 'd1f1': 0.07996857231366444, 'd1d5': 0.07501045217691758, 'd1d3': 0.061665028979070925, 'f3g5': 0.021934233238176858, 'd1d6': 0.0071583228220000765, 'a2a3': 0.0}}\n",
      "--------------------------------------------------\n",
      "<class 'dict'>\n"
     ]
    }
   ],
   "source": [
    "# Randomly sample and print out values\n",
    "rand_sample_df(test_df)"
   ]
  }
 ],
 "metadata": {
  "kernelspec": {
   "display_name": "chess-reasoner",
   "language": "python",
   "name": "python3"
  },
  "language_info": {
   "codemirror_mode": {
    "name": "ipython",
    "version": 3
   },
   "file_extension": ".py",
   "mimetype": "text/x-python",
   "name": "python",
   "nbconvert_exporter": "python",
   "pygments_lexer": "ipython3",
   "version": "3.10.16"
  }
 },
 "nbformat": 4,
 "nbformat_minor": 2
}
