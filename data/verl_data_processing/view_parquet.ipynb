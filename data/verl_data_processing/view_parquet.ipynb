{
 "cells": [
  {
   "cell_type": "markdown",
   "metadata": {},
   "source": [
    "# Test Your Parquets \n",
    "---\n",
    "Make sure after creating parquets the following things work"
   ]
  },
  {
   "cell_type": "code",
   "execution_count": 1,
   "metadata": {},
   "outputs": [],
   "source": [
    "import os\n",
    "import json\n",
    "import pandas as pd"
   ]
  },
  {
   "cell_type": "code",
   "execution_count": 4,
   "metadata": {},
   "outputs": [
    {
     "name": "stdout",
     "output_type": "stream",
     "text": [
      "<class 'pandas.core.frame.DataFrame'>\n",
      "RangeIndex: 5000 entries, 0 to 4999\n",
      "Data columns (total 5 columns):\n",
      " #   Column        Non-Null Count  Dtype \n",
      "---  ------        --------------  ----- \n",
      " 0   data_source   5000 non-null   object\n",
      " 1   prompt        5000 non-null   object\n",
      " 2   ability       5000 non-null   object\n",
      " 3   reward_model  5000 non-null   object\n",
      " 4   extra_info    5000 non-null   object\n",
      "dtypes: object(5)\n",
      "memory usage: 195.4+ KB\n",
      "None\n"
     ]
    }
   ],
   "source": [
    "parquet_filename = \"train-old_system_prompt-5k.parquet\"\n",
    "DATA_ROOT = os.path.abspath(os.path.join(os.path.abspath(os.getcwd()), \"..\"))\n",
    "\n",
    "# Download our parquet and convert to pandas dataframe for viewing\n",
    "df = pd.read_parquet(os.path.join(DATA_ROOT, \"parquet_datasets\", parquet_filename))\n",
    "df[\"reward_model\"] = df[\"reward_model\"].apply(json.loads)\n",
    "\n",
    "print(df.info())"
   ]
  },
  {
   "cell_type": "code",
   "execution_count": null,
   "metadata": {},
   "outputs": [
    {
     "name": "stdout",
     "output_type": "stream",
     "text": [
      "Prompt:\n",
      "<|im_start|>system\n",
      "You are a smart, strategic, and wise chess reasoning model. You are currently in a chess tournament where you have 1 minute to make a move.\n",
      "\n",
      "We will provide you with a board in Forsyth-Edwards Notation (FEN) and a list of legal moves. Your task is to reason through the board state and determine an optimal move based on your analysis.\n",
      "\n",
      "The reasoning process and answer must be enclosed within <think> </think> and <answer> </answer> tags, respectively. For example, when given an input prefixed with \"user:\", your response should be in the format \"assistant: <think> [your reasoning] </think> <answer> [chosen move] </answer>\".\n",
      "\n",
      "Below is an example of your desired behavior:\n",
      "\n",
      "Example 1:\n",
      "user: <FEN> 7R/4n1k1/4P3/1pp2B2/8/6P1/2r4P/6K1 w - - 3 50 </FEN> <legal moves> [f5h7, h8h6, h2h4, h8g8, h2h3, g1f1, f5d3, f5h3, h8b8, h8h4, h8c8, h8f8, h8a8, h8d8, f5g4, h8h3, g3g4, g1h1, f5e4, h8h5, f5c2, h8e8, f5g6, h8h7] </legal moves>\n",
      "assistant: <think> Playing as white, I'm in the offensive here. My rook is currently in at risk of being taken by their king and my bishop is at risk of being taken by their knight. I could take their rook with their bishop but they would take my rook. However, if I move my rook to h7, I'll put their king in check while saving my rook and bishop and continue pressure. Moving rook h8 to h7 is a wise move. </think> <answer> h8h7 </answer>\n",
      "\n",
      "Make sure that your chosen move is in standard chess notation (such as 'g8f7' -- which means you move the piece from g8 to f7). \n",
      "\n",
      "Use English for your thought process. Remember you have one minute to move so be quick.<|im_end|>\n",
      "<|im_start|>user: <FEN> r7/1p2kp2/pn1p4/4pP2/5b2/2PK4/P4P2/7R w - - 4 32 </FEN> <legalmoves> [d3e4, h1h3, h1e1, h1h8, h1c1, d3c2, h1b1, h1d1, h1h5, f2f3, a2a4, h1a1, c3c4, h1h6, a2a3, h1h7, d3e2, h1h4, h1g1, f5f6, h1f1, h1h2] </legalmoves><|im_end|>\n",
      "<|im_start|>assistant: \n",
      "\n",
      "Reward Model:\n",
      "{'style': 'rule', 'ground_truth': {'d3e4': 1.0, 'h1h3': 0.9885373283209044, 'h1e1': 0.9658255203888133, 'h1h8': 0.9489771032358749, 'h1c1': 0.8670753226306274, 'd3c2': 0.8353845526917236, 'h1b1': 0.8197637176750443, 'h1d1': 0.8145897497967824, 'h1h5': 0.8094321983332414, 'f2f3': 0.8094321983332414, 'a2a4': 0.8042910200731809, 'h1a1': 0.7991661718580073, 'c3c4': 0.7788292181389507, 'h1h6': 0.7637458615235494, 'a2a3': 0.7537702953363514, 'h1h7': 0.729108911368013, 'd3e2': 0.7000325352578962, 'h1h4': 0.6762271153573036, 'h1g1': 0.14335038792239976, 'f5f6': 0.13160180546727615, 'h1f1': 0.09172100517667676, 'h1h2': 0.0}}\n",
      "--------------------------------------------------\n",
      "<class 'dict'>\n"
     ]
    }
   ],
   "source": [
    "# Randomly sample and print out values\n",
    "sample = df.sample(1).iloc[0]\n",
    "print(f\"Prompt:\\n{sample['prompt'][0]['content']}\\n\")   # This should be the full prompt (sys + user)\n",
    "print(f\"Reward Model:\\n{sample['reward_model']}\\n\" + \"-\"*50)   # This should be a dict with a 'ground_truth' key\n",
    "print(type(sample['reward_model']))  # Make sure this is 'dict'"
   ]
  }
 ],
 "metadata": {
  "kernelspec": {
   "display_name": "chess-reasoner",
   "language": "python",
   "name": "python3"
  },
  "language_info": {
   "codemirror_mode": {
    "name": "ipython",
    "version": 3
   },
   "file_extension": ".py",
   "mimetype": "text/x-python",
   "name": "python",
   "nbconvert_exporter": "python",
   "pygments_lexer": "ipython3",
   "version": "3.10.16"
  }
 },
 "nbformat": 4,
 "nbformat_minor": 2
}
