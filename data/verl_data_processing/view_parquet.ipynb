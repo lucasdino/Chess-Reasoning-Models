{
 "cells": [
  {
   "cell_type": "markdown",
   "metadata": {},
   "source": [
    "# Test Your Parquets \n",
    "---\n",
    "Make sure after creating parquets the following things work"
   ]
  },
  {
   "cell_type": "code",
   "execution_count": 1,
   "metadata": {},
   "outputs": [],
   "source": [
    "import os\n",
    "import json\n",
    "import pandas as pd"
   ]
  },
  {
   "cell_type": "code",
   "execution_count": 56,
   "metadata": {},
   "outputs": [
    {
     "name": "stdout",
     "output_type": "stream",
     "text": [
      "<class 'pandas.core.frame.DataFrame'>\n",
      "RangeIndex: 5000 entries, 0 to 4999\n",
      "Data columns (total 5 columns):\n",
      " #   Column        Non-Null Count  Dtype \n",
      "---  ------        --------------  ----- \n",
      " 0   data_source   5000 non-null   object\n",
      " 1   prompt        5000 non-null   object\n",
      " 2   ability       5000 non-null   object\n",
      " 3   reward_model  5000 non-null   object\n",
      " 4   extra_info    5000 non-null   object\n",
      "dtypes: object(5)\n",
      "memory usage: 195.4+ KB\n",
      "Train df info:\n",
      "None\n",
      "<class 'pandas.core.frame.DataFrame'>\n",
      "RangeIndex: 256 entries, 0 to 255\n",
      "Data columns (total 5 columns):\n",
      " #   Column        Non-Null Count  Dtype \n",
      "---  ------        --------------  ----- \n",
      " 0   data_source   256 non-null    object\n",
      " 1   prompt        256 non-null    object\n",
      " 2   ability       256 non-null    object\n",
      " 3   reward_model  256 non-null    object\n",
      " 4   extra_info    256 non-null    object\n",
      "dtypes: object(5)\n",
      "memory usage: 10.1+ KB\n",
      "\n",
      "Test df info:\n",
      "None\n"
     ]
    }
   ],
   "source": [
    "# Need to check both -- if test is busted it will break our train :)\n",
    "train_parquet_filename = \"train-FEN_board_normal_reward-5k.parquet\"\n",
    "test_parquet_filename = \"test-FEN_board_normal_reward-256.parquet\"\n",
    "DATA_ROOT = os.path.abspath(os.path.join(os.path.abspath(os.getcwd()), \"..\"))\n",
    "\n",
    "# Download our parquet and convert to pandas dataframe for viewing\n",
    "train_df = pd.read_parquet(os.path.join(DATA_ROOT, \"parquet_datasets\", train_parquet_filename))\n",
    "train_df[\"reward_model\"] = train_df[\"reward_model\"].apply(json.loads)\n",
    "test_df = pd.read_parquet(os.path.join(DATA_ROOT, \"parquet_datasets\", test_parquet_filename))\n",
    "test_df[\"reward_model\"] = test_df[\"reward_model\"].apply(json.loads)\n",
    "\n",
    "print(f\"Train df info:\\n{train_df.info()}\")\n",
    "print(f\"\\nTest df info:\\n{test_df.info()}\")"
   ]
  },
  {
   "cell_type": "code",
   "execution_count": 57,
   "metadata": {},
   "outputs": [],
   "source": [
    "def rand_sample_df(df):\n",
    "    sample = df.sample(1).iloc[0]\n",
    "    print(f\"Prompt:\\n{sample['prompt'][0]['content']}\\n\")   # This should be the full prompt (sys + user)\n",
    "    print(f\"Reward Model:\\n{sample['reward_model']}\\n\" + \"-\"*50)   # This should be a dict with a 'ground_truth' key\n",
    "    print(type(sample['reward_model']))  # Make sure this is 'dict'"
   ]
  },
  {
   "cell_type": "code",
   "execution_count": 58,
   "metadata": {},
   "outputs": [
    {
     "name": "stdout",
     "output_type": "stream",
     "text": [
      "Prompt:\n",
      "<|im_start|>system\n",
      "You are a smart, strategic, and wise chess reasoning model. You are currently in a chess tournament where you have 1 minute to make a move.\n",
      "\n",
      "We will provide you with a board in Forsyth-Edwards Notation (FEN) and a list of legal moves. Your task is to reason through the board state and determine an optimal move based on your analysis.\n",
      "\n",
      "The reasoning process and answer must be enclosed within <think> </think> and <answer> </answer> tags, respectively. For example, when given an input prefixed with \"user:\", your response should be in the format \"assistant: <think> [your reasoning] </think> <answer> [chosen move] </answer>\".\n",
      "\n",
      "Below is an example of your desired behavior:\n",
      "\n",
      "Example 1:\n",
      "user: <FEN> 7R/4n1k1/4P3/1pp2B2/8/6P1/2r4P/6K1 w - - 3 50 </FEN> <legal moves> [f5h7, h8h6, h2h4, h8g8, h2h3, g1f1, f5d3, f5h3, h8b8, h8h4, h8c8, h8f8, h8a8, h8d8, f5g4, h8h3, g3g4, g1h1, f5e4, h8h5, f5c2, h8e8, f5g6, h8h7] </legal moves>\n",
      "assistant: <think> Playing as white, I'm in the offensive here. My rook is currently in at risk of being taken by their king and my bishop is at risk of being taken by their knight. I could take their rook with their bishop but they would take my rook. However, if I move my rook to h7, I'll put their king in check while saving my rook and bishop and continue pressure. Moving rook h8 to h7 is a wise move. </think> <answer> h8h7 </answer>\n",
      "\n",
      "Make sure that your chosen move is in standard chess notation (such as 'g8f7' -- which means you move the piece from g8 to f7). \n",
      "\n",
      "Use English for your thought process. Remember you have one minute to move so be quick.<|im_end|>\n",
      "<|im_start|>user: <FEN> 4k2r/1r2ppbp/p2p1np1/2p5/P1P5/2N1BP1P/5P2/R2KR3 w k - 2 23 </FEN> <legalmoves> [e1g1, e1e2, d1c2, a1b1, d1d2, e3d2, e3g5, e1h1, a1a3, e3d4, c3e2, e3c5, d1c1, e3c1, c3d5, a1a2, e3f4, d1e2, c3e4, f3f4, a1c1, c3b1, e1f1, e3h6, c3a2, a4a5, h3h4, c3b5] </legalmoves><|im_end|>\n",
      "<|im_start|>assistant: \n",
      "\n",
      "Reward Model:\n",
      "{'style': 'rule', 'ground_truth': {'e1g1': 0.7040988794204818, 'e1e2': 0.5679365573981964, 'd1c2': 1.0, 'a1b1': 0.7809410693092077, 'd1d2': 0.8612899837684729, 'e3d2': 0.7644737961005121, 'e3g5': 0.9361829063056376, 'e1h1': 0.7400634885873091, 'a1a3': 0.6844542469428342, 'e3d4': 0.12490835966922749, 'c3e2': 0.3642326346996652, 'e3c5': 0.40172104374869866, 'd1c1': 0.6611954076887706, 'e3c1': 0.7279887034249979, 'c3d5': 0.0, 'a1a2': 0.5607274333474379, 'e3f4': 0.9953774014074498, 'd1e2': 0.7360289199470352, 'c3e4': 0.1690251497702559, 'f3f4': 0.6458793815730035, 'a1c1': 0.7239830407650479, 'c3b1': 0.05212060861159564, 'e1f1': 0.5322586681182657, 'e3h6': 0.09219625995137963, 'c3a2': 0.39538731718315084, 'a4a5': 0.7080565173113286, 'h3h4': 0.6344916276301821, 'c3b5': 0.5824657441030724}}\n",
      "--------------------------------------------------\n",
      "<class 'dict'>\n"
     ]
    }
   ],
   "source": [
    "# Randomly sample and print out values\n",
    "rand_sample_df(train_df)"
   ]
  },
  {
   "cell_type": "code",
   "execution_count": 59,
   "metadata": {},
   "outputs": [
    {
     "name": "stdout",
     "output_type": "stream",
     "text": [
      "Prompt:\n",
      "<|im_start|>system\n",
      "You are a smart, strategic, and wise chess reasoning model. You are currently in a chess tournament where you have 1 minute to make a move.\n",
      "\n",
      "We will provide you with a board in Forsyth-Edwards Notation (FEN) and a list of legal moves. Your task is to reason through the board state and determine an optimal move based on your analysis.\n",
      "\n",
      "The reasoning process and answer must be enclosed within <think> </think> and <answer> </answer> tags, respectively. For example, when given an input prefixed with \"user:\", your response should be in the format \"assistant: <think> [your reasoning] </think> <answer> [chosen move] </answer>\".\n",
      "\n",
      "Below is an example of your desired behavior:\n",
      "\n",
      "Example 1:\n",
      "user: <FEN> 7R/4n1k1/4P3/1pp2B2/8/6P1/2r4P/6K1 w - - 3 50 </FEN> <legal moves> [f5h7, h8h6, h2h4, h8g8, h2h3, g1f1, f5d3, f5h3, h8b8, h8h4, h8c8, h8f8, h8a8, h8d8, f5g4, h8h3, g3g4, g1h1, f5e4, h8h5, f5c2, h8e8, f5g6, h8h7] </legal moves>\n",
      "assistant: <think> Playing as white, I'm in the offensive here. My rook is currently in at risk of being taken by their king and my bishop is at risk of being taken by their knight. I could take their rook with their bishop but they would take my rook. However, if I move my rook to h7, I'll put their king in check while saving my rook and bishop and continue pressure. Moving rook h8 to h7 is a wise move. </think> <answer> h8h7 </answer>\n",
      "\n",
      "Make sure that your chosen move is in standard chess notation (such as 'g8f7' -- which means you move the piece from g8 to f7). \n",
      "\n",
      "Use English for your thought process. Remember you have one minute to move so be quick.<|im_end|>\n",
      "<|im_start|>user: <FEN> r1b5/pppp1kpp/2n1r3/3Q4/8/8/PqP1N1PP/RN4KR w - - 2 13 </FEN> <legalmoves> [h2h3, a2a3, d5f5, d5c6, b1a3, d5g5, g2g4, e2g3, e2d4, e2c1, b1c3, c2c4, d5e6, d5d4, d5b5, d5c4, d5d2, g1f1, e2c3, b1d2, c2c3, d5f3, g1f2, d5d3, e2f4, d5d7, d5e5, h2h4, d5e4, d5h5, d5a5, d5b3, g2g3, d5d1, d5c5, d5d6, a2a4] </legalmoves><|im_end|>\n",
      "<|im_start|>assistant: \n",
      "\n",
      "Reward Model:\n",
      "{'style': 'rule', 'ground_truth': {'h2h3': 1.0, 'a2a3': 0.6668822496247552, 'd5f5': 0.5575062407734779, 'd5c6': 0.1931328050968633, 'b1a3': 0.4741332785876536, 'd5g5': 0.649563704943807, 'g2g4': 0.6603407436039662, 'e2g3': 0.643172211150263, 'e2d4': 0.0, 'e2c1': 0.0, 'b1c3': 0.531911590162527, 'c2c4': 0.6560111702339413, 'd5e6': 0.3807371617852685, 'd5d4': 0.05506677782685576, 'd5b5': 0.13888784773169596, 'd5c4': 0.6039704829222378, 'd5d2': 0.5822603746497751, 'g1f1': 0.4988787592384432, 'e2c3': 0.8497582960993806, 'b1d2': 0.5039671768672725, 'c2c3': 0.616114189563575, 'd5f3': 0.7189480976407399, 'g1f2': 0.8100960738204026, 'd5d3': 0.5745406486774352, 'e2f4': 0.0, 'd5d7': 0.0670485150366547, 'd5e5': 0.09573143496992337, 'h2h4': 0.8688191937562278, 'd5e4': 0.16384062277902686, 'd5h5': 0.6538557750801409, 'd5a5': 0.11723664818619328, 'd5b3': 0.8363594429894777, 'g2g3': 0.686849369790697, 'd5d1': 0.5920405998135607, 'd5c5': 0.5482404002001775, 'd5d6': 0.09998604288090915, 'a2a4': 0.6410540924476598}}\n",
      "--------------------------------------------------\n",
      "<class 'dict'>\n"
     ]
    }
   ],
   "source": [
    "# Randomly sample and print out values\n",
    "rand_sample_df(test_df)"
   ]
  }
 ],
 "metadata": {
  "kernelspec": {
   "display_name": "base",
   "language": "python",
   "name": "python3"
  },
  "language_info": {
   "codemirror_mode": {
    "name": "ipython",
    "version": 3
   },
   "file_extension": ".py",
   "mimetype": "text/x-python",
   "name": "python",
   "nbconvert_exporter": "python",
   "pygments_lexer": "ipython3",
   "version": "3.12.3"
  }
 },
 "nbformat": 4,
 "nbformat_minor": 2
}
