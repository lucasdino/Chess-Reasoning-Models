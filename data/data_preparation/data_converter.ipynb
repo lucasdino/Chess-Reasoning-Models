{
 "cells": [
  {
   "cell_type": "code",
   "execution_count": null,
   "metadata": {},
   "outputs": [],
   "source": [
    "import os\n",
    "import pandas as pd\n",
    "from apache_beam import coders\n",
    "from utils import bagz\n",
    "import chess\n",
    "from io import StringIO"
   ]
  },
  {
   "cell_type": "code",
   "execution_count": 7,
   "metadata": {},
   "outputs": [],
   "source": [
    "CODERS = {\n",
    "    'fen': coders.StrUtf8Coder(),\n",
    "    'move': coders.StrUtf8Coder(),\n",
    "    'count': coders.BigIntegerCoder(),\n",
    "    'win_prob': coders.FloatCoder(),\n",
    "}\n",
    "CODERS['action_value'] = coders.TupleCoder((\n",
    "    CODERS['fen'],\n",
    "    CODERS['move'],\n",
    "    CODERS['win_prob'],\n",
    "))"
   ]
  },
  {
   "cell_type": "code",
   "execution_count": 8,
   "metadata": {},
   "outputs": [],
   "source": [
    "class ChessDataLoader:\n",
    "    \"\"\"Modular class to load different types of chess datasets from Bagz files.\"\"\"\n",
    "\n",
    "    def __init__(self, data_type: str, base_path: str):\n",
    "        \"\"\"\n",
    "        Initialize the data loader.\n",
    "\n",
    "        Args:\n",
    "            data_type (str): One of 'action_value'.\n",
    "            base_path (str): Path to the folder containing the dataset.\n",
    "        \"\"\"\n",
    "        if data_type not in {\"action_value\"}:\n",
    "            raise ValueError(f\"Invalid data type: {data_type}\")\n",
    "\n",
    "        self.data_type = data_type\n",
    "        self.file_path = os.path.join(base_path, f\"{data_type}_data.bag\")\n",
    "        self.data_source = bagz.BagDataSource(self.file_path)\n",
    "\n",
    "    def load_data(self) -> pd.DataFrame:\n",
    "        \"\"\"Loads the data from the Bagz file into a Pandas DataFrame.\"\"\"\n",
    "        records = []\n",
    "        decoder = CODERS[self.data_type].decode\n",
    "\n",
    "        for i in range(len(self.data_source)):\n",
    "            element = self.data_source[i]\n",
    "            decoded = decoder(element)\n",
    "\n",
    "            if self.data_type == \"action_value\":\n",
    "                fen, move, win_prob = decoded\n",
    "                record = {\"FEN\": fen, \"Move\": move, \"Win Probability\": win_prob}\n",
    "            else:\n",
    "                continue \n",
    "\n",
    "            records.append(record)\n",
    "\n",
    "        return pd.DataFrame(records)"
   ]
  },
  {
   "cell_type": "code",
   "execution_count": 9,
   "metadata": {},
   "outputs": [],
   "source": [
    "data_path = os.path.join(os.getcwd(), \"data/test\")\n",
    "\n",
    "# Load all datasets into separate DataFrames\n",
    "df_action_value = ChessDataLoader(\"action_value\", data_path).load_data()"
   ]
  },
  {
   "cell_type": "code",
   "execution_count": 10,
   "metadata": {},
   "outputs": [],
   "source": [
    "# Group by 'FEN', sort by 'Win Probability' in descending order, and aggregate\n",
    "df_action_value_merged = (\n",
    "    df_action_value\n",
    "    .sort_values(by=[\"FEN\", \"Win Probability\"], ascending=[True, False]) \n",
    "    .groupby(\"FEN\", as_index=False)\n",
    "    .agg({\"Move\": list, \"Win Probability\": list})  # Convert to lists\n",
    ")"
   ]
  },
  {
   "cell_type": "code",
   "execution_count": 18,
   "metadata": {},
   "outputs": [],
   "source": [
    "def convert_uci_moves_to_pgn(fen, uci_moves):\n",
    "    \"\"\"\n",
    "    Convert UCI moves to PGN move notation based on a given FEN position.\n",
    "    \"\"\"\n",
    "    board = chess.Board(fen)\n",
    "    pgn_moves = []\n",
    "    \n",
    "    for uci in uci_moves:\n",
    "        move = chess.Move.from_uci(uci)\n",
    "        if move in board.legal_moves:\n",
    "            pgn_moves.append(board.san(move)) \n",
    "\n",
    "    return pgn_moves\n",
    "\n",
    "# Apply conversion\n",
    "df_action_value_merged[\"PGN\"] = df_action_value_merged.apply(\n",
    "    lambda row: convert_uci_moves_to_pgn(row[\"FEN\"], row[\"Move\"]), axis=1\n",
    ")"
   ]
  },
  {
   "cell_type": "code",
   "execution_count": null,
   "metadata": {},
   "outputs": [
    {
     "name": "stdout",
     "output_type": "stream",
     "text": [
      "DataFrame has been saved to chess_action_value_test.csv\n"
     ]
    }
   ],
   "source": [
    "# Define the path where the CSV file will be saved\n",
    "csv_file_path = \"chess_challenges_full_pgn.csv\"\n",
    "\n",
    "# Store the DataFrame as a CSV file\n",
    "df_action_value_merged.to_csv(csv_file_path, index=False)\n",
    "\n",
    "print(f\"DataFrame has been saved to {csv_file_path}\")"
   ]
  }
 ],
 "metadata": {
  "kernelspec": {
   "display_name": "venv",
   "language": "python",
   "name": "python3"
  },
  "language_info": {
   "codemirror_mode": {
    "name": "ipython",
    "version": 3
   },
   "file_extension": ".py",
   "mimetype": "text/x-python",
   "name": "python",
   "nbconvert_exporter": "python",
   "pygments_lexer": "ipython3",
   "version": "3.12.3"
  }
 },
 "nbformat": 4,
 "nbformat_minor": 2
}
