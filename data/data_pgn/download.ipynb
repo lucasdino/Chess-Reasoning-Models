{
 "cells": [
  {
   "cell_type": "code",
   "execution_count": 2,
   "metadata": {},
   "outputs": [
    {
     "name": "stderr",
     "output_type": "stream",
     "text": [
      "Downloading shards: 100%|██████████| 32/32 [03:07<00:00,  5.85s/it]\n"
     ]
    }
   ],
   "source": [
    "import requests\n",
    "import os\n",
    "from tqdm import tqdm\n",
    "\n",
    "def download_shards(base_url, save_dir, num_shards=32):\n",
    "    os.makedirs(save_dir, exist_ok=True)\n",
    "    \n",
    "    for i in tqdm(range(num_shards), desc=\"Downloading shards\"):\n",
    "        shard_name = f\"ccrl-data.jsonl-{i:05d}-of-{num_shards:05d}\"\n",
    "        url = f\"{base_url}/{shard_name}\"\n",
    "        save_path = os.path.join(save_dir, shard_name)\n",
    "        \n",
    "        response = requests.get(url, stream=True)\n",
    "        if response.status_code == 200:\n",
    "            with open(save_path, \"wb\") as file:\n",
    "                for chunk in response.iter_content(chunk_size=1024):\n",
    "                    file.write(chunk)\n",
    "            # print(f\"Downloaded: {shard_name}\")\n",
    "        else:\n",
    "            print(f\"Failed to download: {shard_name} (Status: {response.status_code})\")\n",
    "\n",
    "base_url = \"https://huggingface.co/datasets/Waterhorse/chess_data/resolve/main/chessgpt_data/ccrl\"\n",
    "save_directory = \"chess_data_pgn\"\n",
    "download_shards(base_url, save_directory)"
   ]
  },
  {
   "cell_type": "code",
   "execution_count": 3,
   "metadata": {},
   "outputs": [
    {
     "name": "stderr",
     "output_type": "stream",
     "text": [
      "Loading shards into DataFrame: 100%|██████████| 32/32 [00:42<00:00,  1.34s/it]\n"
     ]
    }
   ],
   "source": [
    "import pandas as pd\n",
    "\n",
    "def load_shards_to_dataframe(save_dir, num_shards=32):\n",
    "    data_frames = []\n",
    "    \n",
    "    for i in tqdm(range(num_shards), desc=\"Loading shards into DataFrame\"):\n",
    "        shard_name = f\"ccrl-data.jsonl-{i:05d}-of-{num_shards:05d}\"\n",
    "        file_path = os.path.join(save_dir, shard_name)\n",
    "        \n",
    "        if os.path.exists(file_path):\n",
    "            df = pd.read_json(file_path, lines=True)\n",
    "            data_frames.append(df)\n",
    "        else:\n",
    "            print(f\"Missing file: {shard_name}\")\n",
    "    \n",
    "    return pd.concat(data_frames, ignore_index=True) if data_frames else pd.DataFrame()\n",
    "\n",
    "df = load_shards_to_dataframe(save_directory)"
   ]
  },
  {
   "cell_type": "code",
   "execution_count": 16,
   "metadata": {},
   "outputs": [],
   "source": [
    "df = df.drop('metadata', axis=1)"
   ]
  },
  {
   "cell_type": "code",
   "execution_count": 22,
   "metadata": {},
   "outputs": [
    {
     "data": {
      "text/plain": [
       "'[Event \"CCRL 40/15\"]\\n[Site \"CCRL\"]\\n[Date \"2015.02.15\"]\\n[Round \"443.1.530\"]\\n[White \"Tucano 5.00 64-bit\"]\\n[Black \"Bison 9.11 64-bit\"]\\n[Result \"1-0\"]\\n[ECO \"D86\"]\\n[Opening \"Gruenfeld\"]\\n[Variation \"exchange, classical variation\"]\\n[PlyCount \"130\"]\\n[WhiteElo \"2679\"]\\n[BlackElo \"2754\"]\\n\\n1. d4 Nf6 2. c4 g6 3. Nc3 d5 4. cxd5 Nxd5 5. e4 Nxc3 6. bxc3 Bg7 7. Bc4 c5 8.\\nNe2 Nc6 9. Be3 O-O 10. O-O Qc7 11. Rc1 Rd8 12. Qa4 e6 13. Bg5 Bd7 14. Bxd8 Rxd8\\n15. Qa3 Na5 16. Bd3 b6 17. Rcd1 Bf8 18. Qb2 Ba4 19. Rd2 Bc6 20. Kh1 h5 21. Rdd1\\nBa4 22. Rc1 Qd7 23. Qb1 h4 24. f4 h3 25. gxh3 Bc6 26. h4 Qb7 27. Rf2 Nc4 28.\\nNg3 Na3 29. Qb2 c4 30. Bf1 Bxe4+ 31. Bg2 Bd5 32. h5 b5 33. hxg6 fxg6 34. Bxd5\\nQxd5+ 35. Rg2 Rd7 36. Re1 Rg7 37. Re5 Qf3 38. Ne4 Be7 39. Ng5 Bxg5 40. Rxg5\\nQd1+ 41. Rg1 Qf3+ 42. R5g2 b4 43. Qxb4 Nc2 44. Qxc4 Ne3 45. Qe2 Qe4 46. Re1\\nQxg2+ 47. Qxg2 Nxg2 48. Kxg2 Kf7 49. c4 Kf6 50. Kf3 Rh7 51. Re2 Kf5 52. Re5+\\nKf6 53. Ra5 Rh3+ 54. Ke4 Rxh2 55. Rxa7 Rh4 56. Ra5 Rh1 57. c5 Re1+ 58. Kd3 Rd1+\\n59. Kc4 Rd2 60. a4 Rc2+ 61. Kd3 Rc1 62. Ra8 Ke7 63. a5 Kd7 64. Ra7+ Kc6 65.\\nRa6+ Kb5 1-0\\n\\n'"
      ]
     },
     "execution_count": 22,
     "metadata": {},
     "output_type": "execute_result"
    }
   ],
   "source": [
    "df.iloc[0,0]"
   ]
  }
 ],
 "metadata": {
  "kernelspec": {
   "display_name": "chess",
   "language": "python",
   "name": "python3"
  },
  "language_info": {
   "codemirror_mode": {
    "name": "ipython",
    "version": 3
   },
   "file_extension": ".py",
   "mimetype": "text/x-python",
   "name": "python",
   "nbconvert_exporter": "python",
   "pygments_lexer": "ipython3",
   "version": "3.13.2"
  }
 },
 "nbformat": 4,
 "nbformat_minor": 2
}
